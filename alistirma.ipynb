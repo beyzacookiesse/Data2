{
 "cells": [
  {
   "cell_type": "code",
   "execution_count": 5,
   "metadata": {},
   "outputs": [
    {
     "name": "stdout",
     "output_type": "stream",
     "text": [
      "57 sayısı asal sayı değildir\n"
     ]
    }
   ],
   "source": [
    "x = int(input(\"bir sayı girin\"))\n",
    "\n",
    "if x > 1:\n",
    "\n",
    "    count = 0\n",
    "    for i in range(2, x):\n",
    "        if x % i == 0:\n",
    "            count += 1\n",
    "\n",
    "    if count == 0:\n",
    "        print(f\"{x} sayısı asal sayıdır\")\n",
    "    else:\n",
    "        print(f\"{x} sayısı asal sayı değildir\")\n",
    "\n",
    "else:\n",
    "    print(\"girilen değer 1 den büyük olmalıdır\")"
   ]
  },
  {
   "cell_type": "code",
   "execution_count": 1,
   "metadata": {},
   "outputs": [],
   "source": [
    "def find_prime_number(x):\n",
    "    \"\"\"bu fonk sayisinin asal sayi olup olmadihgini tespit eder.\"\"\"\n",
    "    if x>1:\n",
    "        for i in range (2,x):\n",
    "            if x%i == 0:\n",
    "                print(\"sayi asal degildir\")\n",
    "                break\n",
    "        else:\n",
    "            return f\"{x} sayisi asaldir\" #for dongusunun else i . break le durduktan sonra for dongusu biter  ve else devam eder.\n",
    "    else:\n",
    "        return f\"girdiginiz sayi {x}. 1 den buyuk olmalidir.\"\n",
    "            "
   ]
  },
  {
   "cell_type": "code",
   "execution_count": 4,
   "metadata": {},
   "outputs": [
    {
     "name": "stdout",
     "output_type": "stream",
     "text": [
      "sayi asal degildir\n"
     ]
    }
   ],
   "source": [
    "find_prime_number(10)"
   ]
  },
  {
   "cell_type": "code",
   "execution_count": 10,
   "metadata": {},
   "outputs": [],
   "source": [
    "def find_prime_number_2(x):\n",
    "\n",
    "    \"\"\"Bu fonsiyon sayının asalsayı olup olmadığını tespit eder.\"\"\"\n",
    "\n",
    "    if x > 1:\n",
    "\n",
    "        for i in range(2, x):\n",
    "\n",
    "            if x % i == 0:\n",
    "                break\n",
    "        \n",
    "        else:    \n",
    "            return x\n",
    "            \n",
    "    else:\n",
    "        return f\"girdiğiniz sayı {x}. 1 den bütük olmalıdır\""
   ]
  },
  {
   "cell_type": "code",
   "execution_count": 11,
   "metadata": {},
   "outputs": [
    {
     "data": {
      "text/plain": [
       "17"
      ]
     },
     "execution_count": 11,
     "metadata": {},
     "output_type": "execute_result"
    }
   ],
   "source": [
    "find_prime_number_2(17)# bu ifade true dur"
   ]
  },
  {
   "cell_type": "code",
   "execution_count": 12,
   "metadata": {},
   "outputs": [
    {
     "data": {
      "text/plain": [
       "[1,\n",
       " 2,\n",
       " 3,\n",
       " 5,\n",
       " 7,\n",
       " 11,\n",
       " 13,\n",
       " 17,\n",
       " 19,\n",
       " 23,\n",
       " 29,\n",
       " 31,\n",
       " 37,\n",
       " 41,\n",
       " 43,\n",
       " 47,\n",
       " 53,\n",
       " 59,\n",
       " 61,\n",
       " 67,\n",
       " 71,\n",
       " 73,\n",
       " 79,\n",
       " 83,\n",
       " 89,\n",
       " 97]"
      ]
     },
     "execution_count": 12,
     "metadata": {},
     "output_type": "execute_result"
    }
   ],
   "source": [
    "result = []\n",
    "\n",
    "for i in range(1,101):\n",
    "    if find_prime_number_2(i) != None:# if in kosulu true ise calisir bu ifade\n",
    "        result.append(i)\n",
    "\n",
    "result"
   ]
  },
  {
   "cell_type": "code",
   "execution_count": 15,
   "metadata": {},
   "outputs": [],
   "source": [
    "def my_name(first_name, last_name):\n",
    "    print(f\" my name {first_name} {last_name}\")\n"
   ]
  },
  {
   "cell_type": "code",
   "execution_count": 17,
   "metadata": {},
   "outputs": [
    {
     "name": "stdout",
     "output_type": "stream",
     "text": [
      " my name alsan koysan\n"
     ]
    }
   ],
   "source": [
    "my_name(first_name=\"alsan\", last_name=\"koysan\")"
   ]
  },
  {
   "cell_type": "code",
   "execution_count": 20,
   "metadata": {},
   "outputs": [],
   "source": [
    "def my_name(first_name, last_name=\"akin\"):\n",
    "    print(f\" my name is {first_name} {last_name}\")"
   ]
  },
  {
   "cell_type": "code",
   "execution_count": 21,
   "metadata": {},
   "outputs": [
    {
     "name": "stdout",
     "output_type": "stream",
     "text": [
      " my name is Betul akin\n"
     ]
    }
   ],
   "source": [
    "my_name(\"Betul\")"
   ]
  },
  {
   "cell_type": "code",
   "execution_count": 23,
   "metadata": {},
   "outputs": [],
   "source": [
    "def tek_sayilar (a,b,c,d,e):\n",
    "    tek_sayilar=[]\n",
    "    for i in a,b,c,d,e:\n",
    "        if i%2:\n",
    "            tek_sayilar.append(i)\n",
    "    return tek_sayilar\n"
   ]
  },
  {
   "cell_type": "code",
   "execution_count": 24,
   "metadata": {},
   "outputs": [
    {
     "data": {
      "text/plain": [
       "[45, 67]"
      ]
     },
     "execution_count": 24,
     "metadata": {},
     "output_type": "execute_result"
    }
   ],
   "source": [
    "tek_sayilar(4,45,2,67,34)# tanimlanan deger kadar deger girilmeli\n"
   ]
  },
  {
   "cell_type": "code",
   "execution_count": 25,
   "metadata": {},
   "outputs": [],
   "source": [
    "def tek_sayılar_2(* sayılar):\n",
    "\n",
    "    tek_sayılar = []\n",
    "\n",
    "    for i in sayılar:\n",
    "\n",
    "        if i % 2:\n",
    "            tek_sayılar.append(i)\n",
    "    return tek_sayılar"
   ]
  },
  {
   "cell_type": "code",
   "execution_count": 28,
   "metadata": {},
   "outputs": [
    {
     "data": {
      "text/plain": [
       "[23, 45, 75, 43, 99]"
      ]
     },
     "execution_count": 28,
     "metadata": {},
     "output_type": "execute_result"
    }
   ],
   "source": [
    "tek_sayılar_2(2,23,45,56,75,43,99)"
   ]
  },
  {
   "cell_type": "code",
   "execution_count": 30,
   "metadata": {},
   "outputs": [],
   "source": [
    "def tek_cift(*sayilar):#teklerin karesi, ciftlerin 2 kati\n",
    "    result=[]\n",
    "    for i in sayilar:\n",
    "        if i%2==0:\n",
    "            result.append(i*2)\n",
    "        else:\n",
    "            result.append(i**2)\n",
    "    return result"
   ]
  },
  {
   "cell_type": "code",
   "execution_count": 31,
   "metadata": {},
   "outputs": [
    {
     "data": {
      "text/plain": [
       "[9, 8, 25, 12, 49, 16, 81]"
      ]
     },
     "execution_count": 31,
     "metadata": {},
     "output_type": "execute_result"
    }
   ],
   "source": [
    "tek_cift(3,4,5,6,7,8,9)"
   ]
  },
  {
   "cell_type": "code",
   "execution_count": 34,
   "metadata": {},
   "outputs": [],
   "source": [
    "def tek_cift(*sayilar):\n",
    "    return[i*2 if i%2==0 else i**2 for i in sayilar]"
   ]
  },
  {
   "cell_type": "code",
   "execution_count": 37,
   "metadata": {},
   "outputs": [
    {
     "data": {
      "text/plain": [
       "[9, 8, 25, 12, 49, 16, 81]"
      ]
     },
     "execution_count": 37,
     "metadata": {},
     "output_type": "execute_result"
    }
   ],
   "source": [
    "tek_cift(3,4,5,6,7,8,9)"
   ]
  },
  {
   "cell_type": "code",
   "execution_count": 38,
   "metadata": {},
   "outputs": [
    {
     "data": {
      "text/plain": [
       "{'name1': 'seyda', 'name2': 'medine', 'name3': 'ayse'}"
      ]
     },
     "execution_count": 38,
     "metadata": {},
     "output_type": "execute_result"
    }
   ],
   "source": [
    "dict_1={\"name1\": \"seyda\", \"name2\": \"medine\",\"name3\": \"ayse\" }\n",
    "dict_1"
   ]
  },
  {
   "cell_type": "code",
   "execution_count": 39,
   "metadata": {},
   "outputs": [],
   "source": [
    "def kwargs_function(** kwargs):\n",
    "    for i, j in kwargs.items():\n",
    "        print (f\"key:{i}, value: {j}\")\n"
   ]
  },
  {
   "cell_type": "code",
   "execution_count": 40,
   "metadata": {},
   "outputs": [
    {
     "name": "stdout",
     "output_type": "stream",
     "text": [
      "key:name4, value: oguz\n",
      "key:name5, value: murat\n",
      "key:name6, value: yildiz\n"
     ]
    }
   ],
   "source": [
    "kwargs_function(name4=\"oguz\", name5=\"murat\", name6=\"yildiz\")"
   ]
  },
  {
   "cell_type": "code",
   "execution_count": 41,
   "metadata": {},
   "outputs": [
    {
     "name": "stdout",
     "output_type": "stream",
     "text": [
      "key:name1, value: seyda\n",
      "key:name2, value: medine\n",
      "key:name3, value: ayse\n"
     ]
    }
   ],
   "source": [
    "kwargs_function(**dict_1)"
   ]
  },
  {
   "cell_type": "code",
   "execution_count": null,
   "metadata": {},
   "outputs": [],
   "source": [
    "vildan\n"
   ]
  },
  {
   "cell_type": "code",
   "execution_count": null,
   "metadata": {},
   "outputs": [],
   "source": []
  },
  {
   "cell_type": "code",
   "execution_count": 55,
   "metadata": {},
   "outputs": [
    {
     "name": "stdout",
     "output_type": "stream",
     "text": [
      "Sorry, you don't have a super family!\n"
     ]
    }
   ],
   "source": [
    "\n",
    "mother_name=set(input(\"enter mother name\").lower())\n",
    "father_name=set(input(\"enter father name\").lower())\n",
    "child_name=set(input(\"enter child name\").lower())\n",
    "\n",
    "silent_letter=set(\"bcdfghjklmnpqrstvwxyz\")\n",
    "mother_silent_name=mother_name & silent_letter\n",
    "father_silent_name= father_name & silent_letter\n",
    "child_silent_name=child_name & silent_letter\n",
    "\n",
    "if child_silent_name& mother_silent_name and child_silent_name&father_silent_name:\n",
    "    print(\"Congrats!You have a super family. \")\n",
    "else:\n",
    "    print(\"Sorry, you don't have a super family!\")"
   ]
  },
  {
   "cell_type": "code",
   "execution_count": 58,
   "metadata": {},
   "outputs": [
    {
     "data": {
      "text/plain": [
       "'dlroW olleH'"
      ]
     },
     "execution_count": 58,
     "metadata": {},
     "output_type": "execute_result"
    }
   ],
   "source": [
    "\n",
    "(lambda x:x [::-1])(\"Hello World\")"
   ]
  },
  {
   "cell_type": "code",
   "execution_count": 60,
   "metadata": {},
   "outputs": [],
   "source": [
    "import pandas"
   ]
  },
  {
   "cell_type": "code",
   "execution_count": 67,
   "metadata": {},
   "outputs": [
    {
     "name": "stdout",
     "output_type": "stream",
     "text": [
      "Defaulting to user installation because normal site-packages is not writeable\n",
      "Requirement already satisfied: pandas in c:\\programdata\\anaconda3\\lib\\site-packages (2.0.3)\n",
      "Requirement already satisfied: python-dateutil>=2.8.2 in c:\\programdata\\anaconda3\\lib\\site-packages (from pandas) (2.8.2)\n",
      "Requirement already satisfied: pytz>=2020.1 in c:\\programdata\\anaconda3\\lib\\site-packages (from pandas) (2023.3.post1)\n",
      "Requirement already satisfied: tzdata>=2022.1 in c:\\programdata\\anaconda3\\lib\\site-packages (from pandas) (2023.3)\n",
      "Requirement already satisfied: numpy>=1.21.0 in c:\\programdata\\anaconda3\\lib\\site-packages (from pandas) (1.24.3)\n",
      "Requirement already satisfied: six>=1.5 in c:\\programdata\\anaconda3\\lib\\site-packages (from python-dateutil>=2.8.2->pandas) (1.16.0)\n",
      "Note: you may need to restart the kernel to use updated packages.\n"
     ]
    }
   ],
   "source": [
    "pip install pandas"
   ]
  },
  {
   "cell_type": "code",
   "execution_count": 8,
   "metadata": {},
   "outputs": [],
   "source": [
    "import pandas as pd"
   ]
  },
  {
   "cell_type": "code",
   "execution_count": 1,
   "metadata": {},
   "outputs": [
    {
     "ename": "NameError",
     "evalue": "name 'pd' is not defined",
     "output_type": "error",
     "traceback": [
      "\u001b[1;31m---------------------------------------------------------------------------\u001b[0m",
      "\u001b[1;31mNameError\u001b[0m                                 Traceback (most recent call last)",
      "Cell \u001b[1;32mIn[1], line 1\u001b[0m\n\u001b[1;32m----> 1\u001b[0m df \u001b[38;5;241m=\u001b[39m pd\u001b[38;5;241m.\u001b[39mread_csv(\u001b[38;5;124m\"\u001b[39m\u001b[38;5;124madult_eda.csv\u001b[39m\u001b[38;5;124m\"\u001b[39m)\n",
      "\u001b[1;31mNameError\u001b[0m: name 'pd' is not defined"
     ]
    }
   ],
   "source": [
    "df = pd.read_csv(\"adult_eda.csv\")"
   ]
  },
  {
   "cell_type": "code",
   "execution_count": null,
   "metadata": {},
   "outputs": [],
   "source": []
  }
 ],
 "metadata": {
  "kernelspec": {
   "display_name": "base",
   "language": "python",
   "name": "python3"
  },
  "language_info": {
   "codemirror_mode": {
    "name": "ipython",
    "version": 3
   },
   "file_extension": ".py",
   "mimetype": "text/x-python",
   "name": "python",
   "nbconvert_exporter": "python",
   "pygments_lexer": "ipython3",
   "version": "3.11.5"
  }
 },
 "nbformat": 4,
 "nbformat_minor": 2
}
